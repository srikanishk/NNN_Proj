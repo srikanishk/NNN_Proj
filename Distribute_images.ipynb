{
 "cells": [
  {
   "cell_type": "code",
   "execution_count": 107,
   "id": "cabfd664-b9c2-4bf4-afca-09fbbf4aad1e",
   "metadata": {},
   "outputs": [],
   "source": [
    "from PIL import Image\n",
    "import pandas as pd\n",
    "import os\n",
    "import shutil"
   ]
  },
  {
   "cell_type": "code",
   "execution_count": 143,
   "id": "02f0bc8c-249e-416b-aafb-afd9b63af14e",
   "metadata": {},
   "outputs": [],
   "source": [
    "def merge_imgs(file_dir, sub_dir):\n",
    "    main_dir = file_dir + sub_dir\n",
    "    num_files = len([name for name in os.listdir(main_dir)]) - 1\n",
    "    new_dir = file_dir + 'merged_img/'\n",
    "    if os.path.isfile(new_dir)== True:\n",
    "        os.mkdir(new_dir)\n",
    "    for i in range(1, int(num_files/3)):\n",
    "        path1 = main_dir + 'img' + str(3*i - 1) + '.jpg'\n",
    "        path2 = main_dir + 'img' + str(3*i - 2) + '.jpg'\n",
    "        path3 = main_dir + 'img' + str(3*i - 0) + '.jpg'\n",
    "        image1 = Image.open(path1)\n",
    "        image2 = Image.open(path2)\n",
    "        image3 = Image.open(path3)\n",
    "        image1_size = image1.size\n",
    "        new_image = Image.new('RGB',(2*image1_size[0], image1_size[1]), (250,250,250))\n",
    "        new_image.paste(image2,(0,0))\n",
    "        new_image.paste(image1,(image1_size[0],0))\n",
    "        new_image2 = Image.new('RGB',(3*image1_size[0], image1_size[1]), (250,250,250))\n",
    "        new_image2.paste(new_image,(0,0))\n",
    "        new_image2.paste(image3,(2*image1_size[0],0))\n",
    "        merged_path = new_dir + str(3*i - 2) + '.jpg'\n",
    "        new_image2.save(merged_path,\"JPEG\")\n",
    "        \n",
    "    return new_dir, num_files/3"
   ]
  },
  {
   "cell_type": "code",
   "execution_count": 135,
   "id": "f9a311a9-9a46-4414-a52d-04561475f958",
   "metadata": {},
   "outputs": [],
   "source": [
    "file_dir = '/Dataset/'\n",
    "sub_dir = 'images/'\n",
    "merge_dir, num_merge_files = merge_imgs(file_dir, sub_dir)"
   ]
  },
  {
   "cell_type": "code",
   "execution_count": 136,
   "id": "af13e01f-50cf-4aad-97c3-f1662ec87531",
   "metadata": {},
   "outputs": [
    {
     "name": "stdout",
     "output_type": "stream",
     "text": [
      "3291\n"
     ]
    }
   ],
   "source": [
    "num_files = len([name for name in os.listdir(main_dir)]) - 1\n",
    "print(num_files)"
   ]
  },
  {
   "cell_type": "code",
   "execution_count": 137,
   "id": "6cdcb9ef-3ac4-410b-a2c8-206c0c231c7a",
   "metadata": {},
   "outputs": [],
   "source": [
    "df = pd.read_csv('/Dataset/dataset.csv')\n",
    "action_classes = pd.unique(df['action'])"
   ]
  },
  {
   "cell_type": "code",
   "execution_count": 138,
   "id": "1fa8e1e7-fe54-4c89-a2d1-aab5f07de23f",
   "metadata": {},
   "outputs": [],
   "source": [
    "classify_dir = '/Dataset/classes/'\n",
    "if os.path.isfile(classify_dir)==True:\n",
    "    os.mkdir(dir)\n",
    "\n",
    "for i in action_classes:\n",
    "    path = dir + str(i) + '/'\n",
    "    if os.path.isfile(path)==True: \n",
    "        os.mkdir(path)"
   ]
  },
  {
   "cell_type": "code",
   "execution_count": 139,
   "id": "0930d681-6b69-4699-a030-f62dabee441e",
   "metadata": {},
   "outputs": [
    {
     "name": "stdout",
     "output_type": "stream",
     "text": [
      "1\n"
     ]
    }
   ],
   "source": [
    "#if df['action'][1] == 0:\n",
    "print(df['action'][26])\n",
    "    #shutil.copy('/Dataset/merged_img/4.jpg', '/Dataset/classes/0')"
   ]
  },
  {
   "cell_type": "code",
   "execution_count": 140,
   "id": "04d05a0e-80a1-43f0-8d47-fac470cc46d6",
   "metadata": {},
   "outputs": [],
   "source": [
    "def distribute_imgs(classify_dir, merge_dir, num_merge_files):\n",
    "    for i in range(1, int(num_merge_files)):\n",
    "        src_file_path = merge_dir + str(3*i - 2) + '.jpg'\n",
    "        classify_path = classify_dir + str(df['action'][i-1]) + '/'\n",
    "        shutil.copy(src_file_path, classify_path)"
   ]
  },
  {
   "cell_type": "code",
   "execution_count": 141,
   "id": "b6bb03b3-25e7-44bc-b294-8ed0e81e3af4",
   "metadata": {},
   "outputs": [],
   "source": [
    "distribute_imgs(classify_dir, merge_dir, num_merge_files)"
   ]
  }
 ],
 "metadata": {
  "kernelspec": {
   "display_name": "Python 3 (ipykernel)",
   "language": "python",
   "name": "python3"
  },
  "language_info": {
   "codemirror_mode": {
    "name": "ipython",
    "version": 3
   },
   "file_extension": ".py",
   "mimetype": "text/x-python",
   "name": "python",
   "nbconvert_exporter": "python",
   "pygments_lexer": "ipython3",
   "version": "3.10.2"
  }
 },
 "nbformat": 4,
 "nbformat_minor": 5
}
